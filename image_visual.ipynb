{
 "cells": [
  {
   "cell_type": "code",
   "execution_count": 1,
   "metadata": {},
   "outputs": [
    {
     "name": "stderr",
     "output_type": "stream",
     "text": [
      "2023-07-15 10:36:10.436011: I tensorflow/core/util/port.cc:110] oneDNN custom operations are on. You may see slightly different numerical results due to floating-point round-off errors from different computation orders. To turn them off, set the environment variable `TF_ENABLE_ONEDNN_OPTS=0`.\n",
      "2023-07-15 10:36:10.504688: I tensorflow/core/platform/cpu_feature_guard.cc:182] This TensorFlow binary is optimized to use available CPU instructions in performance-critical operations.\n",
      "To enable the following instructions: AVX2 AVX_VNNI FMA, in other operations, rebuild TensorFlow with the appropriate compiler flags.\n",
      "2023-07-15 10:36:11.319234: W tensorflow/compiler/tf2tensorrt/utils/py_utils.cc:38] TF-TRT Warning: Could not find TensorRT\n"
     ]
    }
   ],
   "source": [
    "# TO GAIN IMAGES AS THE RESULT OF THE AUTOENCODER\n",
    "import glob\n",
    "import re\n",
    "import os\n",
    "\n",
    "import metrics\n",
    "import callbacks as cb\n",
    "\n",
    "import numpy as np\n",
    "from PIL import Image\n",
    "import tensorflow as tf"
   ]
  },
  {
   "cell_type": "code",
   "execution_count": 2,
   "metadata": {},
   "outputs": [],
   "source": [
    "def np_to_img(nparray, path, namefile):\n",
    "    img = Image.fromarray(nparray)\n",
    "    img_name = os.path.join(path, namefile)\n",
    "    img.save(img_name)\n",
    "    return img\n",
    "\n",
    "def img_to_np(filename):\n",
    "    im = Image.open(filename)\n",
    "    arr = np.asarray(im)\n",
    "    return arr\n",
    "\n",
    "def angle_correction(angle):\n",
    "    angle = 90 - abs(angle%180 - 90)\n",
    "    return angle"
   ]
  },
  {
   "cell_type": "code",
   "execution_count": 12,
   "metadata": {},
   "outputs": [],
   "source": [
    "## Data Preprocessing\n",
    "train_images = glob.glob(\"resized_dataset/train/images/*.bmp\")\n",
    "test_images = glob.glob(\"resized_dataset/test/images/*.bmp\")\n",
    "\n",
    "x_train = []\n",
    "x_test = []\n",
    "y_train = []\n",
    "y_test = []\n",
    "\n",
    "for i, img in enumerate(train_images):\n",
    "    arr = img_to_np(img)\n",
    "    x_train.append(arr)\n",
    "    data = re.search(\"images\\/([A-Z1-9]*)_(\\d.\\d*)_(\\d*)\", img)\n",
    "    _, _, angle = data.group(1), float(data.group(2)), int(data.group(3))\n",
    "    angle = angle_correction(angle)\n",
    "    y_train.append(angle)\n",
    "\n",
    "for i, img in enumerate(test_images):\n",
    "    arr = img_to_np(img)\n",
    "    x_test.append(arr)\n",
    "    data = re.search(\"images\\/([A-Z1-9]*)_(\\d.\\d*)_(\\d*)\", img)\n",
    "    _, _, angle = data.group(1), float(data.group(2)), int(data.group(3))\n",
    "    angle = angle_correction(angle)\n",
    "    y_test.append(angle)\n",
    "\n",
    "x_train = np.expand_dims(np.array(x_train), axis=-1)\n",
    "x_test = np.expand_dims(np.array(x_test), axis=-1)\n",
    "y_train = np.array(y_train)\n",
    "y_test = np.array(y_test)"
   ]
  },
  {
   "cell_type": "code",
   "execution_count": 9,
   "metadata": {},
   "outputs": [],
   "source": [
    "## Create Model\n",
    "latent_dim = 512 \n",
    "\n",
    "class Autoencoder(tf.keras.models.Model):\n",
    "    def __init__(self, latent_dim):\n",
    "        super(Autoencoder, self).__init__()\n",
    "        self.latent_dim = latent_dim   \n",
    "        self.encoder = tf.keras.Sequential([\n",
    "            tf.keras.layers.Conv2D(latent_dim//4, 3, activation='relu', input_shape=[64, 64, 1]),\n",
    "            tf.keras.layers.MaxPool2D(),\n",
    "            tf.keras.layers.Conv2D(latent_dim//2, 3, activation='relu'),\n",
    "            tf.keras.layers.MaxPool2D(),\n",
    "            tf.keras.layers.Conv2D(latent_dim, 3, activation='relu'),\n",
    "        ])\n",
    "        self.decoder = tf.keras.Sequential([\n",
    "            tf.keras.layers.Conv2D(latent_dim, 3, activation='relu'), # decoder\n",
    "            tf.keras.layers.UpSampling2D(),\n",
    "            tf.keras.layers.Conv2D(latent_dim//2, 3, activation='relu'), # decoder\n",
    "            tf.keras.layers.UpSampling2D(),\n",
    "            tf.keras.layers.Conv2D(latent_dim//4, 3, activation='relu'), # decoder\n",
    "        ])\n",
    "        self.fullyconnected = tf.keras.Sequential([\n",
    "            tf.keras.layers.Flatten(),\n",
    "            tf.keras.layers.Dense(1),\n",
    "        ])\n",
    "\n",
    "    def call(self, x):\n",
    "        encoded = self.encoder(x)\n",
    "        decoded = self.decoder(encoded)\n",
    "        output = self.fullyconnected(decoded)\n",
    "        return output\n",
    "\n",
    "autoencoder = Autoencoder(latent_dim)"
   ]
  },
  {
   "cell_type": "code",
   "execution_count": 13,
   "metadata": {},
   "outputs": [
    {
     "name": "stdout",
     "output_type": "stream",
     "text": [
      "(30412, 64, 64, 1)\n",
      "(3802, 64, 64, 1)\n"
     ]
    }
   ],
   "source": [
    "print(x_train.shape)\n",
    "print(x_test.shape)\n",
    "\n",
    "# x_train = np.expand_dims(x_train, axis=-1)\n",
    "# x_test = np.expand_dims(x_test, axis=-1)"
   ]
  },
  {
   "cell_type": "code",
   "execution_count": 14,
   "metadata": {},
   "outputs": [
    {
     "name": "stdout",
     "output_type": "stream",
     "text": [
      "Epoch 1/500\n"
     ]
    },
    {
     "name": "stderr",
     "output_type": "stream",
     "text": [
      "2023-07-15 10:42:54.414121: I tensorflow/compiler/xla/stream_executor/cuda/cuda_dnn.cc:424] Loaded cuDNN version 8600\n",
      "2023-07-15 10:43:02.733723: I tensorflow/tsl/platform/default/subprocess.cc:304] Start cannot spawn child process: No such file or directory\n",
      "2023-07-15 10:43:03.161823: I tensorflow/compiler/xla/stream_executor/cuda/cuda_blas.cc:637] TensorFloat-32 will be used for the matrix multiplication. This will only be logged once.\n",
      "2023-07-15 10:43:03.164577: I tensorflow/compiler/xla/service/service.cc:169] XLA service 0x353a1240 initialized for platform CUDA (this does not guarantee that XLA will be used). Devices:\n",
      "2023-07-15 10:43:03.164616: I tensorflow/compiler/xla/service/service.cc:177]   StreamExecutor device (0): NVIDIA GeForce RTX 3070 Laptop GPU, Compute Capability 8.6\n",
      "2023-07-15 10:43:03.228583: I tensorflow/compiler/mlir/tensorflow/utils/dump_mlir_util.cc:269] disabling MLIR crash reproducer, set env var `MLIR_CRASH_REPRODUCER_DIRECTORY` to enable.\n",
      "2023-07-15 10:43:03.635539: I tensorflow/tsl/platform/default/subprocess.cc:304] Start cannot spawn child process: No such file or directory\n",
      "2023-07-15 10:43:03.715554: I ./tensorflow/compiler/jit/device_compiler.h:180] Compiled cluster using XLA!  This line is logged at most once for the lifetime of the process.\n"
     ]
    },
    {
     "name": "stdout",
     "output_type": "stream",
     "text": [
      "1901/1901 [==============================] - 69s 27ms/step - loss: 18317.2480 - mae: 21.3241 - root_mean_squared_error: 135.3412 - R_squared: -19.8979 - val_loss: 383.1459 - val_mae: 15.9477 - val_root_mean_squared_error: 19.5741 - val_R_squared: 0.4019\n",
      "Epoch 2/500\n",
      "1901/1901 [==============================] - 54s 28ms/step - loss: 377.2228 - mae: 15.4712 - root_mean_squared_error: 19.4222 - R_squared: 0.3839 - val_loss: 319.2353 - val_mae: 14.0482 - val_root_mean_squared_error: 17.8672 - val_R_squared: 0.5011\n",
      "Epoch 3/500\n",
      "1901/1901 [==============================] - 53s 28ms/step - loss: 357.7742 - mae: 14.8907 - root_mean_squared_error: 18.9149 - R_squared: 0.4234 - val_loss: 517.5819 - val_mae: 18.3739 - val_root_mean_squared_error: 22.7504 - val_R_squared: 0.1600\n",
      "Epoch 4/500\n",
      "1901/1901 [==============================] - 66s 35ms/step - loss: 334.6405 - mae: 14.2247 - root_mean_squared_error: 18.2932 - R_squared: 0.4571 - val_loss: 286.3740 - val_mae: 12.7106 - val_root_mean_squared_error: 16.9226 - val_R_squared: 0.5489\n",
      "Epoch 5/500\n",
      "1901/1901 [==============================] - 64s 34ms/step - loss: 333.1099 - mae: 14.1873 - root_mean_squared_error: 18.2513 - R_squared: 0.4571 - val_loss: 295.2623 - val_mae: 13.1570 - val_root_mean_squared_error: 17.1832 - val_R_squared: 0.5377\n",
      "Epoch 6/500\n",
      "1901/1901 [==============================] - 60s 31ms/step - loss: 314.7266 - mae: 13.6798 - root_mean_squared_error: 17.7405 - R_squared: 0.4920 - val_loss: 278.1440 - val_mae: 12.6676 - val_root_mean_squared_error: 16.6777 - val_R_squared: 0.5624\n",
      "Epoch 7/500\n",
      "1901/1901 [==============================] - 76s 40ms/step - loss: 309.4984 - mae: 13.5080 - root_mean_squared_error: 17.5926 - R_squared: 0.4962 - val_loss: 337.0059 - val_mae: 14.2528 - val_root_mean_squared_error: 18.3577 - val_R_squared: 0.4616\n",
      "Epoch 8/500\n",
      "1901/1901 [==============================] - 85s 45ms/step - loss: 303.7816 - mae: 13.2919 - root_mean_squared_error: 17.4293 - R_squared: 0.5088 - val_loss: 319.0045 - val_mae: 13.6975 - val_root_mean_squared_error: 17.8607 - val_R_squared: 0.4885\n",
      "Epoch 9/500\n",
      "1901/1901 [==============================] - 84s 44ms/step - loss: 281.3704 - mae: 12.5242 - root_mean_squared_error: 16.7741 - R_squared: 0.5431 - val_loss: 259.5337 - val_mae: 11.7669 - val_root_mean_squared_error: 16.1100 - val_R_squared: 0.5917\n",
      "Epoch 10/500\n",
      "1901/1901 [==============================] - 85s 45ms/step - loss: 264.8946 - mae: 12.0299 - root_mean_squared_error: 16.2756 - R_squared: 0.5707 - val_loss: 248.6669 - val_mae: 11.5661 - val_root_mean_squared_error: 15.7692 - val_R_squared: 0.6130\n",
      "Epoch 11/500\n",
      "1901/1901 [==============================] - 85s 45ms/step - loss: 261.5713 - mae: 11.8936 - root_mean_squared_error: 16.1732 - R_squared: 0.5778 - val_loss: 233.4108 - val_mae: 10.8236 - val_root_mean_squared_error: 15.2778 - val_R_squared: 0.6338\n",
      "Epoch 12/500\n",
      "1901/1901 [==============================] - 84s 44ms/step - loss: 244.9950 - mae: 11.3545 - root_mean_squared_error: 15.6523 - R_squared: 0.6019 - val_loss: 242.7862 - val_mae: 11.2776 - val_root_mean_squared_error: 15.5816 - val_R_squared: 0.6197\n",
      "Epoch 13/500\n",
      "1901/1901 [==============================] - 85s 45ms/step - loss: 239.6916 - mae: 11.1929 - root_mean_squared_error: 15.4820 - R_squared: 0.6141 - val_loss: 234.2991 - val_mae: 10.8839 - val_root_mean_squared_error: 15.3068 - val_R_squared: 0.6338\n",
      "Epoch 14/500\n",
      "1901/1901 [==============================] - 85s 44ms/step - loss: 229.4703 - mae: 10.8880 - root_mean_squared_error: 15.1483 - R_squared: 0.6292 - val_loss: 237.1095 - val_mae: 11.0175 - val_root_mean_squared_error: 15.3984 - val_R_squared: 0.6272\n",
      "Epoch 15/500\n",
      "1901/1901 [==============================] - 159s 84ms/step - loss: 231.8333 - mae: 10.9428 - root_mean_squared_error: 15.2261 - R_squared: 0.6265 - val_loss: 238.0012 - val_mae: 10.9389 - val_root_mean_squared_error: 15.4273 - val_R_squared: 0.6288\n",
      "Epoch 16/500\n",
      "1901/1901 [==============================] - 87s 46ms/step - loss: 222.0926 - mae: 10.5904 - root_mean_squared_error: 14.9028 - R_squared: 0.6401 - val_loss: 244.2896 - val_mae: 11.0728 - val_root_mean_squared_error: 15.6298 - val_R_squared: 0.6160\n",
      "Epoch 17/500\n",
      "1901/1901 [==============================] - 84s 44ms/step - loss: 218.1536 - mae: 10.4850 - root_mean_squared_error: 14.7700 - R_squared: 0.6474 - val_loss: 230.3630 - val_mae: 10.7909 - val_root_mean_squared_error: 15.1777 - val_R_squared: 0.6389\n",
      "Epoch 18/500\n",
      "1901/1901 [==============================] - 138s 73ms/step - loss: 212.5622 - mae: 10.2957 - root_mean_squared_error: 14.5795 - R_squared: 0.6549 - val_loss: 230.9840 - val_mae: 10.7344 - val_root_mean_squared_error: 15.1982 - val_R_squared: 0.6346\n",
      "Epoch 19/500\n",
      "1901/1901 [==============================] - 107s 56ms/step - loss: 215.1976 - mae: 10.3810 - root_mean_squared_error: 14.6696 - R_squared: 0.6543 - val_loss: 216.2500 - val_mae: 10.3354 - val_root_mean_squared_error: 14.7054 - val_R_squared: 0.6595\n",
      "Epoch 20/500\n",
      "1901/1901 [==============================] - 169s 89ms/step - loss: 205.1529 - mae: 10.0686 - root_mean_squared_error: 14.3232 - R_squared: 0.6660 - val_loss: 209.0461 - val_mae: 10.1518 - val_root_mean_squared_error: 14.4584 - val_R_squared: 0.6734\n",
      "Epoch 21/500\n",
      "1901/1901 [==============================] - 1068s 562ms/step - loss: 201.5535 - mae: 9.9891 - root_mean_squared_error: 14.1970 - R_squared: 0.6735 - val_loss: 221.2299 - val_mae: 10.4341 - val_root_mean_squared_error: 14.8738 - val_R_squared: 0.6540\n",
      "Epoch 22/500\n",
      "1901/1901 [==============================] - 46s 24ms/step - loss: 195.2477 - mae: 9.7931 - root_mean_squared_error: 13.9731 - R_squared: 0.6844 - val_loss: 278.0501 - val_mae: 12.0747 - val_root_mean_squared_error: 16.6748 - val_R_squared: 0.5625\n",
      "Epoch 23/500\n",
      " 670/1901 [=========>....................] - ETA: 35s - loss: 201.0335 - mae: 9.9767 - root_mean_squared_error: 14.1786 - R_squared: 0.6783"
     ]
    },
    {
     "ename": "KeyboardInterrupt",
     "evalue": "",
     "output_type": "error",
     "traceback": [
      "\u001b[0;31m---------------------------------------------------------------------------\u001b[0m",
      "\u001b[0;31mKeyboardInterrupt\u001b[0m                         Traceback (most recent call last)",
      "Cell \u001b[0;32mIn[14], line 7\u001b[0m\n\u001b[1;32m      2\u001b[0m rmse_metrics \u001b[39m=\u001b[39m tf\u001b[39m.\u001b[39mkeras\u001b[39m.\u001b[39mmetrics\u001b[39m.\u001b[39mRootMeanSquaredError()\n\u001b[1;32m      3\u001b[0m autoencoder\u001b[39m.\u001b[39mcompile(optimizer\u001b[39m=\u001b[39m\u001b[39m\"\u001b[39m\u001b[39madam\u001b[39m\u001b[39m\"\u001b[39m,\n\u001b[1;32m      4\u001b[0m                     loss\u001b[39m=\u001b[39m\u001b[39m\"\u001b[39m\u001b[39mmse\u001b[39m\u001b[39m\"\u001b[39m,\n\u001b[1;32m      5\u001b[0m                     metrics\u001b[39m=\u001b[39m[\u001b[39m'\u001b[39m\u001b[39mmae\u001b[39m\u001b[39m'\u001b[39m, rmse_metrics, metrics\u001b[39m.\u001b[39mR_squared])\n\u001b[0;32m----> 7\u001b[0m autoencoder\u001b[39m.\u001b[39;49mfit(x_train, y_train,\n\u001b[1;32m      8\u001b[0m                 validation_data\u001b[39m=\u001b[39;49m(x_test, y_test),\n\u001b[1;32m      9\u001b[0m                 batch_size\u001b[39m=\u001b[39;49m\u001b[39m16\u001b[39;49m, epochs\u001b[39m=\u001b[39;49m\u001b[39m500\u001b[39;49m,\n\u001b[1;32m     10\u001b[0m                 callbacks\u001b[39m=\u001b[39;49m[cb\u001b[39m.\u001b[39;49mearly_stopping])\n\u001b[1;32m     12\u001b[0m autoencoder\u001b[39m.\u001b[39msave(\u001b[39m\"\u001b[39m\u001b[39mvisual.h5\u001b[39m\u001b[39m\"\u001b[39m)\n",
      "File \u001b[0;32m~/.local/lib/python3.10/site-packages/keras/utils/traceback_utils.py:65\u001b[0m, in \u001b[0;36mfilter_traceback.<locals>.error_handler\u001b[0;34m(*args, **kwargs)\u001b[0m\n\u001b[1;32m     63\u001b[0m filtered_tb \u001b[39m=\u001b[39m \u001b[39mNone\u001b[39;00m\n\u001b[1;32m     64\u001b[0m \u001b[39mtry\u001b[39;00m:\n\u001b[0;32m---> 65\u001b[0m     \u001b[39mreturn\u001b[39;00m fn(\u001b[39m*\u001b[39;49margs, \u001b[39m*\u001b[39;49m\u001b[39m*\u001b[39;49mkwargs)\n\u001b[1;32m     66\u001b[0m \u001b[39mexcept\u001b[39;00m \u001b[39mException\u001b[39;00m \u001b[39mas\u001b[39;00m e:\n\u001b[1;32m     67\u001b[0m     filtered_tb \u001b[39m=\u001b[39m _process_traceback_frames(e\u001b[39m.\u001b[39m__traceback__)\n",
      "File \u001b[0;32m~/.local/lib/python3.10/site-packages/keras/engine/training.py:1685\u001b[0m, in \u001b[0;36mModel.fit\u001b[0;34m(self, x, y, batch_size, epochs, verbose, callbacks, validation_split, validation_data, shuffle, class_weight, sample_weight, initial_epoch, steps_per_epoch, validation_steps, validation_batch_size, validation_freq, max_queue_size, workers, use_multiprocessing)\u001b[0m\n\u001b[1;32m   1677\u001b[0m \u001b[39mwith\u001b[39;00m tf\u001b[39m.\u001b[39mprofiler\u001b[39m.\u001b[39mexperimental\u001b[39m.\u001b[39mTrace(\n\u001b[1;32m   1678\u001b[0m     \u001b[39m\"\u001b[39m\u001b[39mtrain\u001b[39m\u001b[39m\"\u001b[39m,\n\u001b[1;32m   1679\u001b[0m     epoch_num\u001b[39m=\u001b[39mepoch,\n\u001b[0;32m   (...)\u001b[0m\n\u001b[1;32m   1682\u001b[0m     _r\u001b[39m=\u001b[39m\u001b[39m1\u001b[39m,\n\u001b[1;32m   1683\u001b[0m ):\n\u001b[1;32m   1684\u001b[0m     callbacks\u001b[39m.\u001b[39mon_train_batch_begin(step)\n\u001b[0;32m-> 1685\u001b[0m     tmp_logs \u001b[39m=\u001b[39m \u001b[39mself\u001b[39;49m\u001b[39m.\u001b[39;49mtrain_function(iterator)\n\u001b[1;32m   1686\u001b[0m     \u001b[39mif\u001b[39;00m data_handler\u001b[39m.\u001b[39mshould_sync:\n\u001b[1;32m   1687\u001b[0m         context\u001b[39m.\u001b[39masync_wait()\n",
      "File \u001b[0;32m~/.local/lib/python3.10/site-packages/tensorflow/python/util/traceback_utils.py:150\u001b[0m, in \u001b[0;36mfilter_traceback.<locals>.error_handler\u001b[0;34m(*args, **kwargs)\u001b[0m\n\u001b[1;32m    148\u001b[0m filtered_tb \u001b[39m=\u001b[39m \u001b[39mNone\u001b[39;00m\n\u001b[1;32m    149\u001b[0m \u001b[39mtry\u001b[39;00m:\n\u001b[0;32m--> 150\u001b[0m   \u001b[39mreturn\u001b[39;00m fn(\u001b[39m*\u001b[39;49margs, \u001b[39m*\u001b[39;49m\u001b[39m*\u001b[39;49mkwargs)\n\u001b[1;32m    151\u001b[0m \u001b[39mexcept\u001b[39;00m \u001b[39mException\u001b[39;00m \u001b[39mas\u001b[39;00m e:\n\u001b[1;32m    152\u001b[0m   filtered_tb \u001b[39m=\u001b[39m _process_traceback_frames(e\u001b[39m.\u001b[39m__traceback__)\n",
      "File \u001b[0;32m~/.local/lib/python3.10/site-packages/tensorflow/python/eager/polymorphic_function/polymorphic_function.py:894\u001b[0m, in \u001b[0;36mFunction.__call__\u001b[0;34m(self, *args, **kwds)\u001b[0m\n\u001b[1;32m    891\u001b[0m compiler \u001b[39m=\u001b[39m \u001b[39m\"\u001b[39m\u001b[39mxla\u001b[39m\u001b[39m\"\u001b[39m \u001b[39mif\u001b[39;00m \u001b[39mself\u001b[39m\u001b[39m.\u001b[39m_jit_compile \u001b[39melse\u001b[39;00m \u001b[39m\"\u001b[39m\u001b[39mnonXla\u001b[39m\u001b[39m\"\u001b[39m\n\u001b[1;32m    893\u001b[0m \u001b[39mwith\u001b[39;00m OptionalXlaContext(\u001b[39mself\u001b[39m\u001b[39m.\u001b[39m_jit_compile):\n\u001b[0;32m--> 894\u001b[0m   result \u001b[39m=\u001b[39m \u001b[39mself\u001b[39;49m\u001b[39m.\u001b[39;49m_call(\u001b[39m*\u001b[39;49margs, \u001b[39m*\u001b[39;49m\u001b[39m*\u001b[39;49mkwds)\n\u001b[1;32m    896\u001b[0m new_tracing_count \u001b[39m=\u001b[39m \u001b[39mself\u001b[39m\u001b[39m.\u001b[39mexperimental_get_tracing_count()\n\u001b[1;32m    897\u001b[0m without_tracing \u001b[39m=\u001b[39m (tracing_count \u001b[39m==\u001b[39m new_tracing_count)\n",
      "File \u001b[0;32m~/.local/lib/python3.10/site-packages/tensorflow/python/eager/polymorphic_function/polymorphic_function.py:926\u001b[0m, in \u001b[0;36mFunction._call\u001b[0;34m(self, *args, **kwds)\u001b[0m\n\u001b[1;32m    923\u001b[0m   \u001b[39mself\u001b[39m\u001b[39m.\u001b[39m_lock\u001b[39m.\u001b[39mrelease()\n\u001b[1;32m    924\u001b[0m   \u001b[39m# In this case we have created variables on the first call, so we run the\u001b[39;00m\n\u001b[1;32m    925\u001b[0m   \u001b[39m# defunned version which is guaranteed to never create variables.\u001b[39;00m\n\u001b[0;32m--> 926\u001b[0m   \u001b[39mreturn\u001b[39;00m \u001b[39mself\u001b[39;49m\u001b[39m.\u001b[39;49m_no_variable_creation_fn(\u001b[39m*\u001b[39;49margs, \u001b[39m*\u001b[39;49m\u001b[39m*\u001b[39;49mkwds)  \u001b[39m# pylint: disable=not-callable\u001b[39;00m\n\u001b[1;32m    927\u001b[0m \u001b[39melif\u001b[39;00m \u001b[39mself\u001b[39m\u001b[39m.\u001b[39m_variable_creation_fn \u001b[39mis\u001b[39;00m \u001b[39mnot\u001b[39;00m \u001b[39mNone\u001b[39;00m:\n\u001b[1;32m    928\u001b[0m   \u001b[39m# Release the lock early so that multiple threads can perform the call\u001b[39;00m\n\u001b[1;32m    929\u001b[0m   \u001b[39m# in parallel.\u001b[39;00m\n\u001b[1;32m    930\u001b[0m   \u001b[39mself\u001b[39m\u001b[39m.\u001b[39m_lock\u001b[39m.\u001b[39mrelease()\n",
      "File \u001b[0;32m~/.local/lib/python3.10/site-packages/tensorflow/python/eager/polymorphic_function/tracing_compiler.py:143\u001b[0m, in \u001b[0;36mTracingCompiler.__call__\u001b[0;34m(self, *args, **kwargs)\u001b[0m\n\u001b[1;32m    140\u001b[0m \u001b[39mwith\u001b[39;00m \u001b[39mself\u001b[39m\u001b[39m.\u001b[39m_lock:\n\u001b[1;32m    141\u001b[0m   (concrete_function,\n\u001b[1;32m    142\u001b[0m    filtered_flat_args) \u001b[39m=\u001b[39m \u001b[39mself\u001b[39m\u001b[39m.\u001b[39m_maybe_define_function(args, kwargs)\n\u001b[0;32m--> 143\u001b[0m \u001b[39mreturn\u001b[39;00m concrete_function\u001b[39m.\u001b[39;49m_call_flat(\n\u001b[1;32m    144\u001b[0m     filtered_flat_args, captured_inputs\u001b[39m=\u001b[39;49mconcrete_function\u001b[39m.\u001b[39;49mcaptured_inputs)\n",
      "File \u001b[0;32m~/.local/lib/python3.10/site-packages/tensorflow/python/eager/polymorphic_function/monomorphic_function.py:1757\u001b[0m, in \u001b[0;36mConcreteFunction._call_flat\u001b[0;34m(self, args, captured_inputs, cancellation_manager)\u001b[0m\n\u001b[1;32m   1753\u001b[0m possible_gradient_type \u001b[39m=\u001b[39m gradients_util\u001b[39m.\u001b[39mPossibleTapeGradientTypes(args)\n\u001b[1;32m   1754\u001b[0m \u001b[39mif\u001b[39;00m (possible_gradient_type \u001b[39m==\u001b[39m gradients_util\u001b[39m.\u001b[39mPOSSIBLE_GRADIENT_TYPES_NONE\n\u001b[1;32m   1755\u001b[0m     \u001b[39mand\u001b[39;00m executing_eagerly):\n\u001b[1;32m   1756\u001b[0m   \u001b[39m# No tape is watching; skip to running the function.\u001b[39;00m\n\u001b[0;32m-> 1757\u001b[0m   \u001b[39mreturn\u001b[39;00m \u001b[39mself\u001b[39m\u001b[39m.\u001b[39m_build_call_outputs(\u001b[39mself\u001b[39;49m\u001b[39m.\u001b[39;49m_inference_function\u001b[39m.\u001b[39;49mcall(\n\u001b[1;32m   1758\u001b[0m       ctx, args, cancellation_manager\u001b[39m=\u001b[39;49mcancellation_manager))\n\u001b[1;32m   1759\u001b[0m forward_backward \u001b[39m=\u001b[39m \u001b[39mself\u001b[39m\u001b[39m.\u001b[39m_select_forward_and_backward_functions(\n\u001b[1;32m   1760\u001b[0m     args,\n\u001b[1;32m   1761\u001b[0m     possible_gradient_type,\n\u001b[1;32m   1762\u001b[0m     executing_eagerly)\n\u001b[1;32m   1763\u001b[0m forward_function, args_with_tangents \u001b[39m=\u001b[39m forward_backward\u001b[39m.\u001b[39mforward()\n",
      "File \u001b[0;32m~/.local/lib/python3.10/site-packages/tensorflow/python/eager/polymorphic_function/monomorphic_function.py:381\u001b[0m, in \u001b[0;36m_EagerDefinedFunction.call\u001b[0;34m(self, ctx, args, cancellation_manager)\u001b[0m\n\u001b[1;32m    379\u001b[0m \u001b[39mwith\u001b[39;00m _InterpolateFunctionError(\u001b[39mself\u001b[39m):\n\u001b[1;32m    380\u001b[0m   \u001b[39mif\u001b[39;00m cancellation_manager \u001b[39mis\u001b[39;00m \u001b[39mNone\u001b[39;00m:\n\u001b[0;32m--> 381\u001b[0m     outputs \u001b[39m=\u001b[39m execute\u001b[39m.\u001b[39;49mexecute(\n\u001b[1;32m    382\u001b[0m         \u001b[39mstr\u001b[39;49m(\u001b[39mself\u001b[39;49m\u001b[39m.\u001b[39;49msignature\u001b[39m.\u001b[39;49mname),\n\u001b[1;32m    383\u001b[0m         num_outputs\u001b[39m=\u001b[39;49m\u001b[39mself\u001b[39;49m\u001b[39m.\u001b[39;49m_num_outputs,\n\u001b[1;32m    384\u001b[0m         inputs\u001b[39m=\u001b[39;49margs,\n\u001b[1;32m    385\u001b[0m         attrs\u001b[39m=\u001b[39;49mattrs,\n\u001b[1;32m    386\u001b[0m         ctx\u001b[39m=\u001b[39;49mctx)\n\u001b[1;32m    387\u001b[0m   \u001b[39melse\u001b[39;00m:\n\u001b[1;32m    388\u001b[0m     outputs \u001b[39m=\u001b[39m execute\u001b[39m.\u001b[39mexecute_with_cancellation(\n\u001b[1;32m    389\u001b[0m         \u001b[39mstr\u001b[39m(\u001b[39mself\u001b[39m\u001b[39m.\u001b[39msignature\u001b[39m.\u001b[39mname),\n\u001b[1;32m    390\u001b[0m         num_outputs\u001b[39m=\u001b[39m\u001b[39mself\u001b[39m\u001b[39m.\u001b[39m_num_outputs,\n\u001b[0;32m   (...)\u001b[0m\n\u001b[1;32m    393\u001b[0m         ctx\u001b[39m=\u001b[39mctx,\n\u001b[1;32m    394\u001b[0m         cancellation_manager\u001b[39m=\u001b[39mcancellation_manager)\n",
      "File \u001b[0;32m~/.local/lib/python3.10/site-packages/tensorflow/python/eager/execute.py:52\u001b[0m, in \u001b[0;36mquick_execute\u001b[0;34m(op_name, num_outputs, inputs, attrs, ctx, name)\u001b[0m\n\u001b[1;32m     50\u001b[0m \u001b[39mtry\u001b[39;00m:\n\u001b[1;32m     51\u001b[0m   ctx\u001b[39m.\u001b[39mensure_initialized()\n\u001b[0;32m---> 52\u001b[0m   tensors \u001b[39m=\u001b[39m pywrap_tfe\u001b[39m.\u001b[39;49mTFE_Py_Execute(ctx\u001b[39m.\u001b[39;49m_handle, device_name, op_name,\n\u001b[1;32m     53\u001b[0m                                       inputs, attrs, num_outputs)\n\u001b[1;32m     54\u001b[0m \u001b[39mexcept\u001b[39;00m core\u001b[39m.\u001b[39m_NotOkStatusException \u001b[39mas\u001b[39;00m e:\n\u001b[1;32m     55\u001b[0m   \u001b[39mif\u001b[39;00m name \u001b[39mis\u001b[39;00m \u001b[39mnot\u001b[39;00m \u001b[39mNone\u001b[39;00m:\n",
      "\u001b[0;31mKeyboardInterrupt\u001b[0m: "
     ]
    }
   ],
   "source": [
    "## COMPILE AND TRAIN\n",
    "rmse_metrics = tf.keras.metrics.RootMeanSquaredError()\n",
    "autoencoder.compile(optimizer=\"adam\",\n",
    "                    loss=\"mse\",\n",
    "                    metrics=['mae', rmse_metrics, metrics.R_squared])\n",
    "\n",
    "autoencoder.fit(x_train, y_train,\n",
    "                validation_data=(x_test, y_test),\n",
    "                batch_size=16, epochs=500,\n",
    "                callbacks=[cb.early_stopping])\n",
    "\n",
    "autoencoder.save(\"visual.h5\")"
   ]
  },
  {
   "cell_type": "code",
   "execution_count": null,
   "metadata": {},
   "outputs": [],
   "source": [
    "encoded_imgs = autoencoder.encoder(x_test).numpy()\n",
    "decoded_imgs = autoencoder.decoder(encoded_imgs).numpy()"
   ]
  },
  {
   "cell_type": "code",
   "execution_count": null,
   "metadata": {},
   "outputs": [],
   "source": [
    "import matplotlib.pyplot as plt\n",
    "n = 10\n",
    "plt.figure(figsize=(20, 4))\n",
    "for i in range(n):\n",
    "  # display original\n",
    "  ax = plt.subplot(2, n, i + 1)\n",
    "  plt.imshow(x_test[i])\n",
    "  plt.title(\"original\")\n",
    "  plt.gray()\n",
    "  ax.get_xaxis().set_visible(False)\n",
    "  ax.get_yaxis().set_visible(False)\n",
    "\n",
    "  # display reconstruction\n",
    "  ax = plt.subplot(2, n, i + 1 + n)\n",
    "  plt.imshow(decoded_imgs[i])\n",
    "  plt.title(\"reconstructed\")\n",
    "  plt.gray()\n",
    "  ax.get_xaxis().set_visible(False)\n",
    "  ax.get_yaxis().set_visible(False)\n",
    "plt.show()"
   ]
  },
  {
   "cell_type": "code",
   "execution_count": null,
   "metadata": {},
   "outputs": [],
   "source": [
    "## LOAD MODEL\n",
    "autoencoder = tf.keras.models.load_model(\"visual.h5\", compile=False)\n",
    "rmse_metrics = tf.keras.metrics.RootMeanSquaredError()\n",
    "autoencoder.compile(optimizer=\"adam\",\n",
    "                    loss=\"mse\",\n",
    "                    metrics=['mae', rmse_metrics, metrics.R_squared])\n",
    "\n",
    "encoded_imgs = autoencoder.encoder(x_test).numpy()\n",
    "decoded_imgs = autoencoder.decoder(encoded_imgs).numpy()"
   ]
  }
 ],
 "metadata": {
  "kernelspec": {
   "display_name": "tfod",
   "language": "python",
   "name": "python3"
  },
  "language_info": {
   "codemirror_mode": {
    "name": "ipython",
    "version": 3
   },
   "file_extension": ".py",
   "mimetype": "text/x-python",
   "name": "python",
   "nbconvert_exporter": "python",
   "pygments_lexer": "ipython3",
   "version": "3.10.9"
  },
  "orig_nbformat": 4
 },
 "nbformat": 4,
 "nbformat_minor": 2
}
